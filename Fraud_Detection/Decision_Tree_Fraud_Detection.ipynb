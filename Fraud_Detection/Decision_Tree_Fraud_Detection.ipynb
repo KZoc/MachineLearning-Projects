{
  "nbformat": 4,
  "nbformat_minor": 0,
  "metadata": {
    "colab": {
      "provenance": [],
      "mount_file_id": "1LCP4SkMjYJKzT0o9iEfg8AAMpb7DeZiC",
      "authorship_tag": "ABX9TyN/wAW30eH8KMMJRppdCr+I",
      "include_colab_link": true
    },
    "kernelspec": {
      "name": "python3",
      "display_name": "Python 3"
    },
    "language_info": {
      "name": "python"
    }
  },
  "cells": [
    {
      "cell_type": "markdown",
      "metadata": {
        "id": "view-in-github",
        "colab_type": "text"
      },
      "source": [
        "<a href=\"https://colab.research.google.com/github/KZoc/MachineLearning-Projects/blob/main/Fraud_Detection/Decision_Tree_Fraud_Detection.ipynb\" target=\"_parent\"><img src=\"https://colab.research.google.com/assets/colab-badge.svg\" alt=\"Open In Colab\"/></a>"
      ]
    },
    {
      "cell_type": "markdown",
      "source": [
        "# 1 - Description, Initialization and Importing Librarys"
      ],
      "metadata": {
        "id": "RnFn31AemlkK"
      }
    },
    {
      "cell_type": "markdown",
      "source": [
        "## Data description:\n",
        "- It contains only numerical input variables which are the result of a PCA transformation. Unfortunately, due to confidentiality issues, we cannot provide the original features and more background information about the data.\n",
        "\n",
        "\n",
        "- Features V1, V2, … V28 are the principal components obtained with PCA, the only features which have not been transformed with PCA are 'Time' and 'Amount'.\n",
        "\n",
        "- Feature 'Time' contains the seconds elapsed between each transaction and the first transaction in the dataset.\n",
        "\n",
        "- The feature 'Amount' is the transaction Amount, this feature can be used for example-dependant cost-sensitive learning.\n",
        "\n",
        "- Feature 'Class' is the response variable and it takes value 1 in case of fraud and 0 otherwise.\n",
        "\n",
        "\n",
        "## Kaggle link to the dataset and info:\n",
        "https://www.kaggle.com/datasets/mlg-ulb/creditcardfraud"
      ],
      "metadata": {
        "id": "y_aiTaXN-pN4"
      }
    },
    {
      "cell_type": "code",
      "source": [
        "from google.colab import drive\n",
        "drive.mount('/content/drive')"
      ],
      "metadata": {
        "colab": {
          "base_uri": "https://localhost:8080/"
        },
        "id": "4c-uhzOil4xR",
        "outputId": "a3198b3e-72ad-43cd-f636-f09356c82c3b"
      },
      "execution_count": 1,
      "outputs": [
        {
          "output_type": "stream",
          "name": "stdout",
          "text": [
            "Drive already mounted at /content/drive; to attempt to forcibly remount, call drive.mount(\"/content/drive\", force_remount=True).\n"
          ]
        }
      ]
    },
    {
      "cell_type": "code",
      "source": [
        "# Importing Librarys\n",
        "\n",
        "import pandas as pd\n"
      ],
      "metadata": {
        "id": "0rp88xOfmtym"
      },
      "execution_count": 2,
      "outputs": []
    },
    {
      "cell_type": "code",
      "source": [
        "dt = pd.read_csv('/content/drive/MyDrive/Alura/Machine Learning/Curso_DT-Fraud-Detection/creditcard.csv')"
      ],
      "metadata": {
        "id": "HB-gEQN7pRl6"
      },
      "execution_count": 3,
      "outputs": []
    },
    {
      "cell_type": "markdown",
      "source": [
        "# 2 - Exploring the data"
      ],
      "metadata": {
        "id": "zYmTfDz4qEU1"
      }
    },
    {
      "cell_type": "code",
      "source": [
        "dt.head()"
      ],
      "metadata": {
        "colab": {
          "base_uri": "https://localhost:8080/",
          "height": 236
        },
        "id": "jHselPPQp4W4",
        "outputId": "7d20b292-05f8-40f4-e3e6-11353d91377c"
      },
      "execution_count": 4,
      "outputs": [
        {
          "output_type": "execute_result",
          "data": {
            "text/plain": [
              "   Time        V1        V2        V3        V4        V5        V6        V7  \\\n",
              "0   0.0 -1.359807 -0.072781  2.536347  1.378155 -0.338321  0.462388  0.239599   \n",
              "1   0.0  1.191857  0.266151  0.166480  0.448154  0.060018 -0.082361 -0.078803   \n",
              "2   1.0 -1.358354 -1.340163  1.773209  0.379780 -0.503198  1.800499  0.791461   \n",
              "3   1.0 -0.966272 -0.185226  1.792993 -0.863291 -0.010309  1.247203  0.237609   \n",
              "4   2.0 -1.158233  0.877737  1.548718  0.403034 -0.407193  0.095921  0.592941   \n",
              "\n",
              "         V8        V9  ...       V21       V22       V23       V24       V25  \\\n",
              "0  0.098698  0.363787  ... -0.018307  0.277838 -0.110474  0.066928  0.128539   \n",
              "1  0.085102 -0.255425  ... -0.225775 -0.638672  0.101288 -0.339846  0.167170   \n",
              "2  0.247676 -1.514654  ...  0.247998  0.771679  0.909412 -0.689281 -0.327642   \n",
              "3  0.377436 -1.387024  ... -0.108300  0.005274 -0.190321 -1.175575  0.647376   \n",
              "4 -0.270533  0.817739  ... -0.009431  0.798278 -0.137458  0.141267 -0.206010   \n",
              "\n",
              "        V26       V27       V28  Amount  Class  \n",
              "0 -0.189115  0.133558 -0.021053  149.62      0  \n",
              "1  0.125895 -0.008983  0.014724    2.69      0  \n",
              "2 -0.139097 -0.055353 -0.059752  378.66      0  \n",
              "3 -0.221929  0.062723  0.061458  123.50      0  \n",
              "4  0.502292  0.219422  0.215153   69.99      0  \n",
              "\n",
              "[5 rows x 31 columns]"
            ],
            "text/html": [
              "\n",
              "\n",
              "  <div id=\"df-3cf155b9-77d7-4197-8f94-80a5f3146677\">\n",
              "    <div class=\"colab-df-container\">\n",
              "      <div>\n",
              "<style scoped>\n",
              "    .dataframe tbody tr th:only-of-type {\n",
              "        vertical-align: middle;\n",
              "    }\n",
              "\n",
              "    .dataframe tbody tr th {\n",
              "        vertical-align: top;\n",
              "    }\n",
              "\n",
              "    .dataframe thead th {\n",
              "        text-align: right;\n",
              "    }\n",
              "</style>\n",
              "<table border=\"1\" class=\"dataframe\">\n",
              "  <thead>\n",
              "    <tr style=\"text-align: right;\">\n",
              "      <th></th>\n",
              "      <th>Time</th>\n",
              "      <th>V1</th>\n",
              "      <th>V2</th>\n",
              "      <th>V3</th>\n",
              "      <th>V4</th>\n",
              "      <th>V5</th>\n",
              "      <th>V6</th>\n",
              "      <th>V7</th>\n",
              "      <th>V8</th>\n",
              "      <th>V9</th>\n",
              "      <th>...</th>\n",
              "      <th>V21</th>\n",
              "      <th>V22</th>\n",
              "      <th>V23</th>\n",
              "      <th>V24</th>\n",
              "      <th>V25</th>\n",
              "      <th>V26</th>\n",
              "      <th>V27</th>\n",
              "      <th>V28</th>\n",
              "      <th>Amount</th>\n",
              "      <th>Class</th>\n",
              "    </tr>\n",
              "  </thead>\n",
              "  <tbody>\n",
              "    <tr>\n",
              "      <th>0</th>\n",
              "      <td>0.0</td>\n",
              "      <td>-1.359807</td>\n",
              "      <td>-0.072781</td>\n",
              "      <td>2.536347</td>\n",
              "      <td>1.378155</td>\n",
              "      <td>-0.338321</td>\n",
              "      <td>0.462388</td>\n",
              "      <td>0.239599</td>\n",
              "      <td>0.098698</td>\n",
              "      <td>0.363787</td>\n",
              "      <td>...</td>\n",
              "      <td>-0.018307</td>\n",
              "      <td>0.277838</td>\n",
              "      <td>-0.110474</td>\n",
              "      <td>0.066928</td>\n",
              "      <td>0.128539</td>\n",
              "      <td>-0.189115</td>\n",
              "      <td>0.133558</td>\n",
              "      <td>-0.021053</td>\n",
              "      <td>149.62</td>\n",
              "      <td>0</td>\n",
              "    </tr>\n",
              "    <tr>\n",
              "      <th>1</th>\n",
              "      <td>0.0</td>\n",
              "      <td>1.191857</td>\n",
              "      <td>0.266151</td>\n",
              "      <td>0.166480</td>\n",
              "      <td>0.448154</td>\n",
              "      <td>0.060018</td>\n",
              "      <td>-0.082361</td>\n",
              "      <td>-0.078803</td>\n",
              "      <td>0.085102</td>\n",
              "      <td>-0.255425</td>\n",
              "      <td>...</td>\n",
              "      <td>-0.225775</td>\n",
              "      <td>-0.638672</td>\n",
              "      <td>0.101288</td>\n",
              "      <td>-0.339846</td>\n",
              "      <td>0.167170</td>\n",
              "      <td>0.125895</td>\n",
              "      <td>-0.008983</td>\n",
              "      <td>0.014724</td>\n",
              "      <td>2.69</td>\n",
              "      <td>0</td>\n",
              "    </tr>\n",
              "    <tr>\n",
              "      <th>2</th>\n",
              "      <td>1.0</td>\n",
              "      <td>-1.358354</td>\n",
              "      <td>-1.340163</td>\n",
              "      <td>1.773209</td>\n",
              "      <td>0.379780</td>\n",
              "      <td>-0.503198</td>\n",
              "      <td>1.800499</td>\n",
              "      <td>0.791461</td>\n",
              "      <td>0.247676</td>\n",
              "      <td>-1.514654</td>\n",
              "      <td>...</td>\n",
              "      <td>0.247998</td>\n",
              "      <td>0.771679</td>\n",
              "      <td>0.909412</td>\n",
              "      <td>-0.689281</td>\n",
              "      <td>-0.327642</td>\n",
              "      <td>-0.139097</td>\n",
              "      <td>-0.055353</td>\n",
              "      <td>-0.059752</td>\n",
              "      <td>378.66</td>\n",
              "      <td>0</td>\n",
              "    </tr>\n",
              "    <tr>\n",
              "      <th>3</th>\n",
              "      <td>1.0</td>\n",
              "      <td>-0.966272</td>\n",
              "      <td>-0.185226</td>\n",
              "      <td>1.792993</td>\n",
              "      <td>-0.863291</td>\n",
              "      <td>-0.010309</td>\n",
              "      <td>1.247203</td>\n",
              "      <td>0.237609</td>\n",
              "      <td>0.377436</td>\n",
              "      <td>-1.387024</td>\n",
              "      <td>...</td>\n",
              "      <td>-0.108300</td>\n",
              "      <td>0.005274</td>\n",
              "      <td>-0.190321</td>\n",
              "      <td>-1.175575</td>\n",
              "      <td>0.647376</td>\n",
              "      <td>-0.221929</td>\n",
              "      <td>0.062723</td>\n",
              "      <td>0.061458</td>\n",
              "      <td>123.50</td>\n",
              "      <td>0</td>\n",
              "    </tr>\n",
              "    <tr>\n",
              "      <th>4</th>\n",
              "      <td>2.0</td>\n",
              "      <td>-1.158233</td>\n",
              "      <td>0.877737</td>\n",
              "      <td>1.548718</td>\n",
              "      <td>0.403034</td>\n",
              "      <td>-0.407193</td>\n",
              "      <td>0.095921</td>\n",
              "      <td>0.592941</td>\n",
              "      <td>-0.270533</td>\n",
              "      <td>0.817739</td>\n",
              "      <td>...</td>\n",
              "      <td>-0.009431</td>\n",
              "      <td>0.798278</td>\n",
              "      <td>-0.137458</td>\n",
              "      <td>0.141267</td>\n",
              "      <td>-0.206010</td>\n",
              "      <td>0.502292</td>\n",
              "      <td>0.219422</td>\n",
              "      <td>0.215153</td>\n",
              "      <td>69.99</td>\n",
              "      <td>0</td>\n",
              "    </tr>\n",
              "  </tbody>\n",
              "</table>\n",
              "<p>5 rows × 31 columns</p>\n",
              "</div>\n",
              "      <button class=\"colab-df-convert\" onclick=\"convertToInteractive('df-3cf155b9-77d7-4197-8f94-80a5f3146677')\"\n",
              "              title=\"Convert this dataframe to an interactive table.\"\n",
              "              style=\"display:none;\">\n",
              "\n",
              "  <svg xmlns=\"http://www.w3.org/2000/svg\" height=\"24px\"viewBox=\"0 0 24 24\"\n",
              "       width=\"24px\">\n",
              "    <path d=\"M0 0h24v24H0V0z\" fill=\"none\"/>\n",
              "    <path d=\"M18.56 5.44l.94 2.06.94-2.06 2.06-.94-2.06-.94-.94-2.06-.94 2.06-2.06.94zm-11 1L8.5 8.5l.94-2.06 2.06-.94-2.06-.94L8.5 2.5l-.94 2.06-2.06.94zm10 10l.94 2.06.94-2.06 2.06-.94-2.06-.94-.94-2.06-.94 2.06-2.06.94z\"/><path d=\"M17.41 7.96l-1.37-1.37c-.4-.4-.92-.59-1.43-.59-.52 0-1.04.2-1.43.59L10.3 9.45l-7.72 7.72c-.78.78-.78 2.05 0 2.83L4 21.41c.39.39.9.59 1.41.59.51 0 1.02-.2 1.41-.59l7.78-7.78 2.81-2.81c.8-.78.8-2.07 0-2.86zM5.41 20L4 18.59l7.72-7.72 1.47 1.35L5.41 20z\"/>\n",
              "  </svg>\n",
              "      </button>\n",
              "\n",
              "\n",
              "\n",
              "    <div id=\"df-a6b92f40-99bb-4b90-8a0a-c894b28601e5\">\n",
              "      <button class=\"colab-df-quickchart\" onclick=\"quickchart('df-a6b92f40-99bb-4b90-8a0a-c894b28601e5')\"\n",
              "              title=\"Suggest charts.\"\n",
              "              style=\"display:none;\">\n",
              "\n",
              "<svg xmlns=\"http://www.w3.org/2000/svg\" height=\"24px\"viewBox=\"0 0 24 24\"\n",
              "     width=\"24px\">\n",
              "    <g>\n",
              "        <path d=\"M19 3H5c-1.1 0-2 .9-2 2v14c0 1.1.9 2 2 2h14c1.1 0 2-.9 2-2V5c0-1.1-.9-2-2-2zM9 17H7v-7h2v7zm4 0h-2V7h2v10zm4 0h-2v-4h2v4z\"/>\n",
              "    </g>\n",
              "</svg>\n",
              "      </button>\n",
              "    </div>\n",
              "\n",
              "<style>\n",
              "  .colab-df-quickchart {\n",
              "    background-color: #E8F0FE;\n",
              "    border: none;\n",
              "    border-radius: 50%;\n",
              "    cursor: pointer;\n",
              "    display: none;\n",
              "    fill: #1967D2;\n",
              "    height: 32px;\n",
              "    padding: 0 0 0 0;\n",
              "    width: 32px;\n",
              "  }\n",
              "\n",
              "  .colab-df-quickchart:hover {\n",
              "    background-color: #E2EBFA;\n",
              "    box-shadow: 0px 1px 2px rgba(60, 64, 67, 0.3), 0px 1px 3px 1px rgba(60, 64, 67, 0.15);\n",
              "    fill: #174EA6;\n",
              "  }\n",
              "\n",
              "  [theme=dark] .colab-df-quickchart {\n",
              "    background-color: #3B4455;\n",
              "    fill: #D2E3FC;\n",
              "  }\n",
              "\n",
              "  [theme=dark] .colab-df-quickchart:hover {\n",
              "    background-color: #434B5C;\n",
              "    box-shadow: 0px 1px 3px 1px rgba(0, 0, 0, 0.15);\n",
              "    filter: drop-shadow(0px 1px 2px rgba(0, 0, 0, 0.3));\n",
              "    fill: #FFFFFF;\n",
              "  }\n",
              "</style>\n",
              "\n",
              "    <script>\n",
              "      async function quickchart(key) {\n",
              "        const containerElement = document.querySelector('#' + key);\n",
              "        const charts = await google.colab.kernel.invokeFunction(\n",
              "            'suggestCharts', [key], {});\n",
              "      }\n",
              "    </script>\n",
              "\n",
              "      <script>\n",
              "\n",
              "function displayQuickchartButton(domScope) {\n",
              "  let quickchartButtonEl =\n",
              "    domScope.querySelector('#df-a6b92f40-99bb-4b90-8a0a-c894b28601e5 button.colab-df-quickchart');\n",
              "  quickchartButtonEl.style.display =\n",
              "    google.colab.kernel.accessAllowed ? 'block' : 'none';\n",
              "}\n",
              "\n",
              "        displayQuickchartButton(document);\n",
              "      </script>\n",
              "      <style>\n",
              "    .colab-df-container {\n",
              "      display:flex;\n",
              "      flex-wrap:wrap;\n",
              "      gap: 12px;\n",
              "    }\n",
              "\n",
              "    .colab-df-convert {\n",
              "      background-color: #E8F0FE;\n",
              "      border: none;\n",
              "      border-radius: 50%;\n",
              "      cursor: pointer;\n",
              "      display: none;\n",
              "      fill: #1967D2;\n",
              "      height: 32px;\n",
              "      padding: 0 0 0 0;\n",
              "      width: 32px;\n",
              "    }\n",
              "\n",
              "    .colab-df-convert:hover {\n",
              "      background-color: #E2EBFA;\n",
              "      box-shadow: 0px 1px 2px rgba(60, 64, 67, 0.3), 0px 1px 3px 1px rgba(60, 64, 67, 0.15);\n",
              "      fill: #174EA6;\n",
              "    }\n",
              "\n",
              "    [theme=dark] .colab-df-convert {\n",
              "      background-color: #3B4455;\n",
              "      fill: #D2E3FC;\n",
              "    }\n",
              "\n",
              "    [theme=dark] .colab-df-convert:hover {\n",
              "      background-color: #434B5C;\n",
              "      box-shadow: 0px 1px 3px 1px rgba(0, 0, 0, 0.15);\n",
              "      filter: drop-shadow(0px 1px 2px rgba(0, 0, 0, 0.3));\n",
              "      fill: #FFFFFF;\n",
              "    }\n",
              "  </style>\n",
              "\n",
              "      <script>\n",
              "        const buttonEl =\n",
              "          document.querySelector('#df-3cf155b9-77d7-4197-8f94-80a5f3146677 button.colab-df-convert');\n",
              "        buttonEl.style.display =\n",
              "          google.colab.kernel.accessAllowed ? 'block' : 'none';\n",
              "\n",
              "        async function convertToInteractive(key) {\n",
              "          const element = document.querySelector('#df-3cf155b9-77d7-4197-8f94-80a5f3146677');\n",
              "          const dataTable =\n",
              "            await google.colab.kernel.invokeFunction('convertToInteractive',\n",
              "                                                     [key], {});\n",
              "          if (!dataTable) return;\n",
              "\n",
              "          const docLinkHtml = 'Like what you see? Visit the ' +\n",
              "            '<a target=\"_blank\" href=https://colab.research.google.com/notebooks/data_table.ipynb>data table notebook</a>'\n",
              "            + ' to learn more about interactive tables.';\n",
              "          element.innerHTML = '';\n",
              "          dataTable['output_type'] = 'display_data';\n",
              "          await google.colab.output.renderOutput(dataTable, element);\n",
              "          const docLink = document.createElement('div');\n",
              "          docLink.innerHTML = docLinkHtml;\n",
              "          element.appendChild(docLink);\n",
              "        }\n",
              "      </script>\n",
              "    </div>\n",
              "  </div>\n"
            ]
          },
          "metadata": {},
          "execution_count": 4
        }
      ]
    },
    {
      "cell_type": "code",
      "source": [
        "# Veryfing dataset size\n",
        "\n",
        "dt.shape"
      ],
      "metadata": {
        "colab": {
          "base_uri": "https://localhost:8080/"
        },
        "id": "PIn3WJQZqS7N",
        "outputId": "ca85b0b5-ead7-4f34-8ccc-9ffb547cadf7"
      },
      "execution_count": 5,
      "outputs": [
        {
          "output_type": "execute_result",
          "data": {
            "text/plain": [
              "(284807, 31)"
            ]
          },
          "metadata": {},
          "execution_count": 5
        }
      ]
    },
    {
      "cell_type": "code",
      "source": [
        "# Checking total Null values on dataset\n",
        "\n",
        "print(dt.isna().sum())"
      ],
      "metadata": {
        "colab": {
          "base_uri": "https://localhost:8080/"
        },
        "id": "QXOoFhzAqzcE",
        "outputId": "d0f08867-2311-4908-cbeb-f242d9cc68a4"
      },
      "execution_count": 6,
      "outputs": [
        {
          "output_type": "stream",
          "name": "stdout",
          "text": [
            "Time      0\n",
            "V1        0\n",
            "V2        0\n",
            "V3        0\n",
            "V4        0\n",
            "V5        0\n",
            "V6        0\n",
            "V7        0\n",
            "V8        0\n",
            "V9        0\n",
            "V10       0\n",
            "V11       0\n",
            "V12       0\n",
            "V13       0\n",
            "V14       0\n",
            "V15       0\n",
            "V16       0\n",
            "V17       0\n",
            "V18       0\n",
            "V19       0\n",
            "V20       0\n",
            "V21       0\n",
            "V22       0\n",
            "V23       0\n",
            "V24       0\n",
            "V25       0\n",
            "V26       0\n",
            "V27       0\n",
            "V28       0\n",
            "Amount    0\n",
            "Class     0\n",
            "dtype: int64\n"
          ]
        }
      ]
    },
    {
      "cell_type": "code",
      "source": [
        "dt.info()"
      ],
      "metadata": {
        "colab": {
          "base_uri": "https://localhost:8080/"
        },
        "id": "7RQsxomgrykP",
        "outputId": "e4ae9c7e-42a7-4825-c59a-a0467fa6f429"
      },
      "execution_count": 7,
      "outputs": [
        {
          "output_type": "stream",
          "name": "stdout",
          "text": [
            "<class 'pandas.core.frame.DataFrame'>\n",
            "RangeIndex: 284807 entries, 0 to 284806\n",
            "Data columns (total 31 columns):\n",
            " #   Column  Non-Null Count   Dtype  \n",
            "---  ------  --------------   -----  \n",
            " 0   Time    284807 non-null  float64\n",
            " 1   V1      284807 non-null  float64\n",
            " 2   V2      284807 non-null  float64\n",
            " 3   V3      284807 non-null  float64\n",
            " 4   V4      284807 non-null  float64\n",
            " 5   V5      284807 non-null  float64\n",
            " 6   V6      284807 non-null  float64\n",
            " 7   V7      284807 non-null  float64\n",
            " 8   V8      284807 non-null  float64\n",
            " 9   V9      284807 non-null  float64\n",
            " 10  V10     284807 non-null  float64\n",
            " 11  V11     284807 non-null  float64\n",
            " 12  V12     284807 non-null  float64\n",
            " 13  V13     284807 non-null  float64\n",
            " 14  V14     284807 non-null  float64\n",
            " 15  V15     284807 non-null  float64\n",
            " 16  V16     284807 non-null  float64\n",
            " 17  V17     284807 non-null  float64\n",
            " 18  V18     284807 non-null  float64\n",
            " 19  V19     284807 non-null  float64\n",
            " 20  V20     284807 non-null  float64\n",
            " 21  V21     284807 non-null  float64\n",
            " 22  V22     284807 non-null  float64\n",
            " 23  V23     284807 non-null  float64\n",
            " 24  V24     284807 non-null  float64\n",
            " 25  V25     284807 non-null  float64\n",
            " 26  V26     284807 non-null  float64\n",
            " 27  V27     284807 non-null  float64\n",
            " 28  V28     284807 non-null  float64\n",
            " 29  Amount  284807 non-null  float64\n",
            " 30  Class   284807 non-null  int64  \n",
            "dtypes: float64(30), int64(1)\n",
            "memory usage: 67.4 MB\n"
          ]
        }
      ]
    },
    {
      "cell_type": "code",
      "source": [
        "# Verifying numbers\n",
        "\n",
        "n_fraud = dt['Class'].sum()\n",
        "n_valid = dt.shape[0] - n_fraud\n",
        "fraud_percent = n_fraud / dt.shape[0]\n",
        "valid_percent = n_valid / dt.shape[0]\n",
        "\n",
        "\n",
        "print('Numbers of Fraud transactions: ', n_fraud,  \" -> \", \"%.2f\" %(fraud_percent * 100), '%')\n",
        "print('Numbers of Valid transactions: ', n_valid,  \" -> \", \"%.2f\" %(valid_percent * 100), '%')"
      ],
      "metadata": {
        "colab": {
          "base_uri": "https://localhost:8080/"
        },
        "id": "ZtjINoiZ3rxw",
        "outputId": "9d7862e1-93d9-4e43-c74e-a0fff0be8631"
      },
      "execution_count": 8,
      "outputs": [
        {
          "output_type": "stream",
          "name": "stdout",
          "text": [
            "Numbers of Fraud transactions:  492  ->  0.17 %\n",
            "Numbers of Valid transactions:  284315  ->  99.83 %\n"
          ]
        }
      ]
    },
    {
      "cell_type": "markdown",
      "source": [
        "# 3 - Creating Decision Tree"
      ],
      "metadata": {
        "id": "lT6wRRy2ABQP"
      }
    },
    {
      "cell_type": "code",
      "source": [
        "from sklearn.model_selection import StratifiedShuffleSplit\n",
        "from sklearn import tree"
      ],
      "metadata": {
        "id": "uR-TKp7N6Sqo"
      },
      "execution_count": 9,
      "outputs": []
    },
    {
      "cell_type": "code",
      "source": [
        "X = dt.drop('Class', axis=1).values\n",
        "y = dt['Class'].values"
      ],
      "metadata": {
        "id": "WGTbe7W7At9U"
      },
      "execution_count": 10,
      "outputs": []
    },
    {
      "cell_type": "code",
      "source": [
        "validator = StratifiedShuffleSplit(n_splits=1, test_size=0.1, random_state=0)"
      ],
      "metadata": {
        "id": "SxsxC_auBqzR"
      },
      "execution_count": 11,
      "outputs": []
    },
    {
      "cell_type": "code",
      "source": [
        "for train_id, test_id in validator.split(X, y):\n",
        "  X_train, X_test = X[train_id], X[test_id]\n",
        "  y_train, y_test = y[train_id], y[test_id]"
      ],
      "metadata": {
        "id": "tx3x4apfB36L"
      },
      "execution_count": 12,
      "outputs": []
    },
    {
      "cell_type": "code",
      "source": [
        "dt_classificator = tree.DecisionTreeClassifier()\n",
        "model_dt = dt_classificator.fit(X_train, y_train)\n",
        "y_pred = model_dt.predict(X_test)"
      ],
      "metadata": {
        "id": "7zHrwq4oCd1i"
      },
      "execution_count": 13,
      "outputs": []
    },
    {
      "cell_type": "markdown",
      "source": [
        "## 3.1 - Creanting Functions for Optimization"
      ],
      "metadata": {
        "id": "yky3R11NbnOa"
      }
    },
    {
      "cell_type": "code",
      "source": [
        "# Function to select fields\n",
        "\n",
        "def xy_selector(data):\n",
        "  X = data.drop('Class', axis=1).values\n",
        "  y = data['Class'].values\n",
        "  return X, y"
      ],
      "metadata": {
        "id": "6Frrrp1lDeGO"
      },
      "execution_count": 14,
      "outputs": []
    },
    {
      "cell_type": "code",
      "source": [
        "# Function to spli the data for train and test\n",
        "\n",
        "def exec_validator(X, y):\n",
        "  validator = StratifiedShuffleSplit(n_splits=1, test_size=0.1, random_state=0)\n",
        "  for train_id, test_id in validator.split(X, y):\n",
        "    X_train, X_test = X[train_id], X[test_id]\n",
        "    y_train, y_test = y[train_id], y[test_id]\n",
        "  return X_train, X_test, y_train, y_test"
      ],
      "metadata": {
        "id": "OI1jmByTcb6G"
      },
      "execution_count": 15,
      "outputs": []
    },
    {
      "cell_type": "code",
      "source": [
        "# Funtion to classify the data\n",
        "\n",
        "%%time\n",
        "\n",
        "def exec_classifier(classificator, X_train, X_test, y_train):\n",
        "  model_dt = classificator.fit(X_train, y_train)\n",
        "  y_predict = model_dt.predict(X_test)\n",
        "  return y_predict"
      ],
      "metadata": {
        "colab": {
          "base_uri": "https://localhost:8080/"
        },
        "id": "6P3TPufod0IX",
        "outputId": "2d03fa3c-db00-4984-d565-cc43ddda4eb0"
      },
      "execution_count": 16,
      "outputs": [
        {
          "output_type": "stream",
          "name": "stdout",
          "text": [
            "CPU times: user 4 µs, sys: 0 ns, total: 4 µs\n",
            "Wall time: 9.06 µs\n"
          ]
        }
      ]
    },
    {
      "cell_type": "code",
      "source": [
        "# Pipeline - From dataframe to predicted values\n",
        "\n",
        "dt_classificator = tree.DecisionTreeClassifier(random_state=0)\n",
        "\n",
        "X, y = xy_selector(dt)\n",
        "\n",
        "X_train, X_test, y_train, y_test = exec_validator(X, y)\n",
        "\n",
        "y_predict = exec_classifier(dt_classificator, X_train, X_test, y_train)"
      ],
      "metadata": {
        "id": "a0zg1hiFflCs"
      },
      "execution_count": 17,
      "outputs": []
    },
    {
      "cell_type": "code",
      "source": [
        "# Saving DecisionTree figure\n",
        "\n",
        "import matplotlib.pyplot as plt\n",
        "\n",
        "\n",
        "def save_tree(classificator, name):\n",
        "  plt.figure(figsize=(200,100))\n",
        "  tree.plot_tree(classificator, filled=True, fontsize=14)\n",
        "  plt.savefig(name)\n",
        "  plt.close()"
      ],
      "metadata": {
        "id": "rfm4TXwnfv3v"
      },
      "execution_count": 18,
      "outputs": []
    },
    {
      "cell_type": "code",
      "source": [
        "save_tree(dt_classificator, 'DecisionTree-1.png')"
      ],
      "metadata": {
        "id": "BiHIurCRi-HO"
      },
      "execution_count": 19,
      "outputs": []
    },
    {
      "cell_type": "markdown",
      "source": [
        "# 4 - Verifying Metrics"
      ],
      "metadata": {
        "id": "ttsdrgLplpH-"
      }
    },
    {
      "cell_type": "code",
      "source": [
        "from sklearn.metrics import accuracy_score\n",
        "from sklearn.metrics import confusion_matrix\n",
        "from sklearn.metrics import precision_score\n",
        "from sklearn.metrics import recall_score"
      ],
      "metadata": {
        "id": "ikXk0YRTjgAd"
      },
      "execution_count": 20,
      "outputs": []
    },
    {
      "cell_type": "code",
      "source": [
        "def validate_tree(y_test, y_predict):\n",
        "  print('Accuracy = ', \"%.3f\" %accuracy_score(y_test, y_predict))\n",
        "  print('Precision = ', \"%.3f\" %precision_score(y_test, y_predict))\n",
        "  print('Recall = ', \"%.3f\" %recall_score(y_test, y_predict))\n",
        "\n",
        "\n",
        "  print(\"\\n Confusion Matrix \\n\", confusion_matrix(y_test, y_predict))"
      ],
      "metadata": {
        "id": "mAUE7lMypjhX"
      },
      "execution_count": 21,
      "outputs": []
    },
    {
      "cell_type": "code",
      "source": [
        "validate_tree(y_test, y_predict)"
      ],
      "metadata": {
        "colab": {
          "base_uri": "https://localhost:8080/"
        },
        "id": "l-op3iSJmRqm",
        "outputId": "6a99868e-0175-473a-d11f-5edad32c4fcc"
      },
      "execution_count": 22,
      "outputs": [
        {
          "output_type": "stream",
          "name": "stdout",
          "text": [
            "Accuracy =  0.999\n",
            "Precision =  0.735\n",
            "Recall =  0.735\n",
            "\n",
            " Confusion Matrix \n",
            " [[28419    13]\n",
            " [   13    36]]\n"
          ]
        }
      ]
    },
    {
      "cell_type": "markdown",
      "source": [
        "# 5 - Configuring Hyperparameters"
      ],
      "metadata": {
        "id": "_50Ir-mEwPX9"
      }
    },
    {
      "cell_type": "markdown",
      "source": [
        "## 5.1 - Checking tree"
      ],
      "metadata": {
        "id": "uchr8B2DxINo"
      }
    },
    {
      "cell_type": "code",
      "source": [
        "print('Tree depth = ', dt_classificator.get_depth())"
      ],
      "metadata": {
        "colab": {
          "base_uri": "https://localhost:8080/"
        },
        "id": "XZq8lHewxWul",
        "outputId": "184190bc-194b-4549-c3f9-ad26d27ccc7d"
      },
      "execution_count": 23,
      "outputs": [
        {
          "output_type": "stream",
          "name": "stdout",
          "text": [
            "Tree depth =  21\n"
          ]
        }
      ]
    },
    {
      "cell_type": "markdown",
      "source": [
        "## 1st Modification:\n",
        "- max_depth = 10"
      ],
      "metadata": {
        "id": "jQnjn25uwq8h"
      }
    },
    {
      "cell_type": "code",
      "source": [
        "dt_classificator = tree.DecisionTreeClassifier(max_depth=10, random_state=0)\n",
        "\n",
        "y_predict = exec_classifier(dt_classificator, X_train, X_test, y_train)"
      ],
      "metadata": {
        "id": "4hIW9qSMyD1s"
      },
      "execution_count": 24,
      "outputs": []
    },
    {
      "cell_type": "code",
      "source": [
        "validate_tree(y_test, y_predict)"
      ],
      "metadata": {
        "colab": {
          "base_uri": "https://localhost:8080/"
        },
        "id": "F8O_LnBNw6ev",
        "outputId": "5702b647-d2bf-4a63-fa04-49644de22f23"
      },
      "execution_count": 25,
      "outputs": [
        {
          "output_type": "stream",
          "name": "stdout",
          "text": [
            "Accuracy =  0.999\n",
            "Precision =  0.947\n",
            "Recall =  0.735\n",
            "\n",
            " Confusion Matrix \n",
            " [[28430     2]\n",
            " [   13    36]]\n"
          ]
        }
      ]
    },
    {
      "cell_type": "code",
      "source": [
        "print('Tree depth = ', dt_classificator.get_depth())"
      ],
      "metadata": {
        "colab": {
          "base_uri": "https://localhost:8080/"
        },
        "id": "dphsKynI0J6h",
        "outputId": "c858f529-e7b7-48cb-962a-77def28d9040"
      },
      "execution_count": 26,
      "outputs": [
        {
          "output_type": "stream",
          "name": "stdout",
          "text": [
            "Tree depth =  10\n"
          ]
        }
      ]
    },
    {
      "cell_type": "markdown",
      "source": [
        "## 2nd Modification:\n",
        "- max_depth = 10\n",
        "- min_samples_leaf = 10"
      ],
      "metadata": {
        "id": "xDV1hB-w0vqj"
      }
    },
    {
      "cell_type": "code",
      "source": [
        "dt_classificator = tree.DecisionTreeClassifier(max_depth=10, min_samples_leaf=10, random_state=0)\n",
        "\n",
        "y_predict = exec_classifier(dt_classificator, X_train, X_test, y_train)"
      ],
      "metadata": {
        "id": "nr89pml0xDmK"
      },
      "execution_count": 27,
      "outputs": []
    },
    {
      "cell_type": "code",
      "source": [
        "validate_tree(y_test, y_predict)"
      ],
      "metadata": {
        "colab": {
          "base_uri": "https://localhost:8080/"
        },
        "id": "XSCD2IoJ1WH-",
        "outputId": "2a26675e-e51d-40ae-b9d7-84332a9501fe"
      },
      "execution_count": 28,
      "outputs": [
        {
          "output_type": "stream",
          "name": "stdout",
          "text": [
            "Accuracy =  0.999\n",
            "Precision =  0.860\n",
            "Recall =  0.755\n",
            "\n",
            " Confusion Matrix \n",
            " [[28426     6]\n",
            " [   12    37]]\n"
          ]
        }
      ]
    },
    {
      "cell_type": "markdown",
      "source": [
        "# 6 - Random Forest Classifier"
      ],
      "metadata": {
        "id": "u-gUYJM92S6g"
      }
    },
    {
      "cell_type": "code",
      "source": [
        "%%time\n",
        "\n",
        "from sklearn.ensemble import RandomForestClassifier\n",
        "\n",
        "RFC = RandomForestClassifier(n_estimators=100, random_state=0)\n",
        "y_pred_RFC = exec_classifier(RFC, X_train, X_test, y_train)"
      ],
      "metadata": {
        "id": "qtbOXhtN1v5M",
        "colab": {
          "base_uri": "https://localhost:8080/"
        },
        "outputId": "8a85ce6f-affe-4a01-965f-67cedf990e49"
      },
      "execution_count": 29,
      "outputs": [
        {
          "output_type": "stream",
          "name": "stdout",
          "text": [
            "CPU times: user 7min 1s, sys: 476 ms, total: 7min 2s\n",
            "Wall time: 7min 4s\n"
          ]
        }
      ]
    },
    {
      "cell_type": "code",
      "source": [
        "validate_tree(y_test, y_pred_RFC)"
      ],
      "metadata": {
        "colab": {
          "base_uri": "https://localhost:8080/"
        },
        "id": "jDtx-TIIVB5T",
        "outputId": "bd7efc71-f1a8-47e4-8893-2e432549e545"
      },
      "execution_count": 30,
      "outputs": [
        {
          "output_type": "stream",
          "name": "stdout",
          "text": [
            "Accuracy =  1.000\n",
            "Precision =  0.949\n",
            "Recall =  0.755\n",
            "\n",
            " Confusion Matrix \n",
            " [[28430     2]\n",
            " [   12    37]]\n"
          ]
        }
      ]
    },
    {
      "cell_type": "code",
      "source": [
        "# Limiting max_depth to 10\n",
        "%%time\n",
        "\n",
        "RFC = RandomForestClassifier(n_estimators=100, random_state=0, max_depth=10)\n",
        "y_pred_RFC = exec_classifier(RFC, X_train, X_test, y_train)"
      ],
      "metadata": {
        "colab": {
          "base_uri": "https://localhost:8080/"
        },
        "id": "Har9U4vHXUEf",
        "outputId": "62cb1a83-2f29-43f4-83b1-91d1cc8500fe"
      },
      "execution_count": 31,
      "outputs": [
        {
          "output_type": "stream",
          "name": "stdout",
          "text": [
            "CPU times: user 4min 5s, sys: 274 ms, total: 4min 5s\n",
            "Wall time: 4min 7s\n"
          ]
        }
      ]
    },
    {
      "cell_type": "code",
      "source": [
        "validate_tree(y_test, y_pred_RFC)"
      ],
      "metadata": {
        "colab": {
          "base_uri": "https://localhost:8080/"
        },
        "id": "8Wfn5Dz9X0qb",
        "outputId": "cfcce39a-4f50-4537-d621-995c2030b655"
      },
      "execution_count": 32,
      "outputs": [
        {
          "output_type": "stream",
          "name": "stdout",
          "text": [
            "Accuracy =  1.000\n",
            "Precision =  0.949\n",
            "Recall =  0.755\n",
            "\n",
            " Confusion Matrix \n",
            " [[28430     2]\n",
            " [   12    37]]\n"
          ]
        }
      ]
    },
    {
      "cell_type": "code",
      "source": [
        "# Changing n_estimators to 50\n",
        "\n",
        "%%time\n",
        "\n",
        "RFC = RandomForestClassifier(n_estimators=50, random_state=0, max_depth=10)\n",
        "y_pred_RFC = exec_classifier(RFC, X_train, X_test, y_train)"
      ],
      "metadata": {
        "colab": {
          "base_uri": "https://localhost:8080/"
        },
        "id": "eMD_X6RaYQj8",
        "outputId": "36aeba33-9eee-4f7d-8355-15c35bf518e8"
      },
      "execution_count": 33,
      "outputs": [
        {
          "output_type": "stream",
          "name": "stdout",
          "text": [
            "CPU times: user 2min 2s, sys: 114 ms, total: 2min 2s\n",
            "Wall time: 2min 3s\n"
          ]
        }
      ]
    },
    {
      "cell_type": "code",
      "source": [
        "validate_tree(y_test, y_pred_RFC)"
      ],
      "metadata": {
        "colab": {
          "base_uri": "https://localhost:8080/"
        },
        "id": "RKsyysJRYZZF",
        "outputId": "7fa95945-9d6e-4824-f593-df248cb7c9b9"
      },
      "execution_count": 34,
      "outputs": [
        {
          "output_type": "stream",
          "name": "stdout",
          "text": [
            "Accuracy =  1.000\n",
            "Precision =  0.974\n",
            "Recall =  0.755\n",
            "\n",
            " Confusion Matrix \n",
            " [[28431     1]\n",
            " [   12    37]]\n"
          ]
        }
      ]
    },
    {
      "cell_type": "markdown",
      "source": [
        "This Random Forest Model is return the better metrics results. I'll use it as a baseline for the next models."
      ],
      "metadata": {
        "id": "LFbFRidBuhye"
      }
    },
    {
      "cell_type": "markdown",
      "source": [
        "# 7 - Boosting and Ada-Boosting"
      ],
      "metadata": {
        "id": "2Cer5LmXcAjD"
      }
    },
    {
      "cell_type": "code",
      "source": [
        "# Importing AdaBoostingClassifier\n",
        "\n",
        "from sklearn.ensemble import AdaBoostClassifier"
      ],
      "metadata": {
        "id": "vnXQXj0WZW9s"
      },
      "execution_count": 35,
      "outputs": []
    },
    {
      "cell_type": "code",
      "source": [
        "%%time\n",
        "\n",
        "adaboost_classifier = AdaBoostClassifier(random_state=0)\n",
        "y_pred_adaboost = exec_classifier(adaboost_classifier, X_train, X_test, y_train)"
      ],
      "metadata": {
        "colab": {
          "base_uri": "https://localhost:8080/"
        },
        "id": "aMyFSqIkrXVP",
        "outputId": "1e915501-193f-4909-ccb0-bbb467f6139c"
      },
      "execution_count": 36,
      "outputs": [
        {
          "output_type": "stream",
          "name": "stdout",
          "text": [
            "CPU times: user 1min 53s, sys: 102 ms, total: 1min 53s\n",
            "Wall time: 1min 54s\n"
          ]
        }
      ]
    },
    {
      "cell_type": "code",
      "source": [
        "validate_tree(y_test, y_pred_adaboost)\n",
        "\n",
        "# The result is worst then we had before"
      ],
      "metadata": {
        "colab": {
          "base_uri": "https://localhost:8080/"
        },
        "id": "Rv9naZlzsApw",
        "outputId": "a540105a-b859-413b-c5eb-8c8f638dd163"
      },
      "execution_count": 37,
      "outputs": [
        {
          "output_type": "stream",
          "name": "stdout",
          "text": [
            "Accuracy =  0.999\n",
            "Precision =  0.889\n",
            "Recall =  0.653\n",
            "\n",
            " Confusion Matrix \n",
            " [[28428     4]\n",
            " [   17    32]]\n"
          ]
        }
      ]
    },
    {
      "cell_type": "code",
      "source": [
        "# Tring to improve the metrics with a few modifications\n",
        "\n",
        "%%time\n",
        "\n",
        "# Set n_estimators = 100\n",
        "adaboost_classifier = AdaBoostClassifier(random_state=0, n_estimators=100)\n",
        "\n",
        "y_pred_adaboost = exec_classifier(adaboost_classifier, X_train, X_test, y_train)"
      ],
      "metadata": {
        "colab": {
          "base_uri": "https://localhost:8080/"
        },
        "id": "Hme6UwVhryAk",
        "outputId": "1e8fb8be-e978-473d-f3fc-513fa6da51b7"
      },
      "execution_count": 38,
      "outputs": [
        {
          "output_type": "stream",
          "name": "stdout",
          "text": [
            "CPU times: user 3min 53s, sys: 210 ms, total: 3min 53s\n",
            "Wall time: 3min 54s\n"
          ]
        }
      ]
    },
    {
      "cell_type": "code",
      "source": [
        "validate_tree(y_test, y_pred_adaboost)\n",
        "\n",
        "# The result get better"
      ],
      "metadata": {
        "colab": {
          "base_uri": "https://localhost:8080/"
        },
        "id": "aVbvQ4TQtERT",
        "outputId": "9c5e0643-2fde-40e9-e5f9-62630559f491"
      },
      "execution_count": 39,
      "outputs": [
        {
          "output_type": "stream",
          "name": "stdout",
          "text": [
            "Accuracy =  0.999\n",
            "Precision =  0.864\n",
            "Recall =  0.776\n",
            "\n",
            " Confusion Matrix \n",
            " [[28426     6]\n",
            " [   11    38]]\n"
          ]
        }
      ]
    },
    {
      "cell_type": "code",
      "source": [
        "# Tring to improve the metrics with a few modifications\n",
        "\n",
        "%%time\n",
        "\n",
        "# Set n_estimators = 200\n",
        "adaboost_classifier = AdaBoostClassifier(random_state=0, n_estimators=200)\n",
        "\n",
        "y_pred_adaboost = exec_classifier(adaboost_classifier, X_train, X_test, y_train)"
      ],
      "metadata": {
        "colab": {
          "base_uri": "https://localhost:8080/"
        },
        "id": "794rqmqat1oK",
        "outputId": "d9616f6e-b4dd-4a8d-e93f-8053b03b11cb"
      },
      "execution_count": 40,
      "outputs": [
        {
          "output_type": "stream",
          "name": "stdout",
          "text": [
            "CPU times: user 7min 40s, sys: 492 ms, total: 7min 41s\n",
            "Wall time: 7min 43s\n"
          ]
        }
      ]
    },
    {
      "cell_type": "code",
      "source": [
        "validate_tree(y_test, y_pred_adaboost)\n",
        "\n",
        "# The result get better"
      ],
      "metadata": {
        "colab": {
          "base_uri": "https://localhost:8080/"
        },
        "id": "LNoJVtbVt4gd",
        "outputId": "af924713-1caa-4561-d750-9d6a26968aed"
      },
      "execution_count": 41,
      "outputs": [
        {
          "output_type": "stream",
          "name": "stdout",
          "text": [
            "Accuracy =  1.000\n",
            "Precision =  0.929\n",
            "Recall =  0.796\n",
            "\n",
            " Confusion Matrix \n",
            " [[28429     3]\n",
            " [   10    39]]\n"
          ]
        }
      ]
    },
    {
      "cell_type": "markdown",
      "source": [
        "# Conclusion\n",
        "\n",
        "Here we had 2 good models, the RandomForestClassifier and AdaBoostClassifier.\n",
        "\n",
        "We tried a few configurations for each one, below are the code of both good models configuration:\n",
        "\n",
        "```\n",
        "RFC = RandomForestClassifier(n_estimators=50, random_state=0, max_depth=10)\n",
        "y_pred_RFC = exec_classifier(RFC, X_train, X_test, y_train)\n",
        "```\n",
        "\n",
        "\n",
        "\n",
        "\n",
        "```\n",
        "adaboost_classifier = AdaBoostClassifier(random_state=0, n_estimators=200)\n",
        "\n",
        "y_pred_adaboost = exec_classifier(adaboost_classifier, X_train, X_test, y_train)\n",
        "```\n",
        "\n",
        "\n"
      ],
      "metadata": {
        "id": "qnBe4IK6yW--"
      }
    },
    {
      "cell_type": "code",
      "source": [],
      "metadata": {
        "id": "yTQwWxX1y-oY"
      },
      "execution_count": 41,
      "outputs": []
    }
  ]
}